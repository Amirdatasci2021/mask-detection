{
 "cells": [
  {
   "cell_type": "code",
   "execution_count": 74,
   "id": "b1c3968f",
   "metadata": {},
   "outputs": [],
   "source": [
    "# imports\n",
    "import matplotlib.pyplot as plt\n",
    "import numpy as np\n",
    "import os\n",
    "import pandas as pd\n",
    "\n",
    "from tensorflow.keras.layers import Dense, Dropout, Flatten, Conv2D, MaxPooling2D\n",
    "from tensorflow.keras.models import Sequential\n",
    "from tensorflow.keras.preprocessing.image import img_to_array, load_img\n",
    "from tensorflow.keras.utils import to_categorical\n",
    "\n",
    "from sklearn.model_selection import train_test_split\n",
    "\n",
    "# For reproducibility\n",
    "np.random.seed(42)"
   ]
  },
  {
   "cell_type": "code",
   "execution_count": null,
   "id": "b1d30ace",
   "metadata": {},
   "outputs": [],
   "source": [
    "# from tensorflow.keras.preprocessing import image_dataset_from_directory\n",
    "# import tensorflow as tf\n",
    "# from tensorflow.keras import layers"
   ]
  },
  {
   "cell_type": "markdown",
   "id": "b2731a5b",
   "metadata": {},
   "source": [
    "## Preprocessing\n",
    "\n",
    "There are many different ways to pre-process image data, and the method used here is idiosyncratic rather than a best practice. In production code and in industry, you are likely to see many image preprocessing workflows similar to this one, and also many image preprocessing workflows that use keras's inbuilt tools. As keras gains wider adoption, and as keras is developed, I suspect more workflows will use keras's inbuilt tools, and fewer will use bespoke processes like the one below.\n",
    "\n",
    "In particular you should know about keras's [`image_dataset_from_directory`](https://keras.io/api/preprocessing/image/#image_dataset_from_directory-function) function, which is a convenient way to read in a directory of image data. Some of these tools allow for data augmentation as the data are imported and processed, which can be especially valuable when we have smaller datasets.\n",
    "\n",
    "### Importing the data\n",
    "\n",
    "The code below will do the following:\n",
    "\n",
    "- Create a list to store array representations of images from a given class\n",
    "- Convert the array to a normalized representation\n",
    "- Store the normalized array\n",
    "- Print an error message for files that could not be converted\n",
    "- Convert the lists to a numpy array representation for compatibility with keras"
   ]
  },
  {
   "cell_type": "code",
   "execution_count": 58,
   "id": "bd54747a",
   "metadata": {
    "tags": []
   },
   "outputs": [
    {
     "name": "stdout",
     "output_type": "stream",
     "text": [
      "Error for file: .ipynb_checkpoints\n",
      "1000 pictures converted.\n"
     ]
    }
   ],
   "source": [
    "# create list\n",
    "unmasked_arrays = []\n",
    "# define filepath for Dog class\n",
    "unmasked_path = 'unmasked/'\n",
    "\n",
    "# convert each image to normalized array and store\n",
    "for file in os.listdir(unmasked_path):\n",
    "    #print(file)\n",
    "    #print(dog_path+file)\n",
    "    try:\n",
    "        # target_size automatically resizes each img on import\n",
    "        face = load_img(unmasked_path + file, target_size=(256, 256))\n",
    "        face_arr = img_to_array(face) / 255\n",
    "        unmasked_arrays.append(face_arr)\n",
    "    except:\n",
    "        print(f'Error for file: {file}')\n",
    "\n",
    "print(f'{len(unmasked_arrays)} pictures converted.')    "
   ]
  },
  {
   "cell_type": "code",
   "execution_count": 59,
   "id": "501de0bb",
   "metadata": {
    "tags": []
   },
   "outputs": [
    {
     "name": "stdout",
     "output_type": "stream",
     "text": [
      "961 pictures converted.\n"
     ]
    }
   ],
   "source": [
    "# create list\n",
    "inc_masked_arrays = []\n",
    "# define filepath for Dog class\n",
    "inc_masked_path = 'masked/incorrect/'\n",
    "\n",
    "# convert each image to normalized array and store\n",
    "for file in os.listdir(inc_masked_path):\n",
    "    #print(file)\n",
    "    #print(dog_path+file)\n",
    "    try:\n",
    "        # target_size automatically resizes each img on import\n",
    "        face = load_img(inc_masked_path + file, target_size=(256, 256))\n",
    "        face_arr = img_to_array(face) / 255\n",
    "        inc_masked_arrays.append(face_arr)\n",
    "    except:\n",
    "        print(f'Error for file: {file}')\n",
    "\n",
    "print(f'{len(inc_masked_arrays)} pictures converted.')    "
   ]
  },
  {
   "cell_type": "code",
   "execution_count": 60,
   "id": "19ce5912",
   "metadata": {
    "tags": []
   },
   "outputs": [
    {
     "name": "stdout",
     "output_type": "stream",
     "text": [
      "962 pictures converted.\n"
     ]
    }
   ],
   "source": [
    "# create list\n",
    "masked_arrays = []\n",
    "# define filepath for Dog class\n",
    "masked_path = 'masked/correct/'\n",
    "\n",
    "# convert each image to normalized array and store\n",
    "for file in os.listdir(masked_path):\n",
    "    #print(file)\n",
    "    #print(dog_path+file)\n",
    "    try:\n",
    "        # target_size automatically resizes each img on import\n",
    "        face = load_img(masked_path + file, target_size=(256, 256))\n",
    "        face_arr = img_to_array(face) / 255\n",
    "        masked_arrays.append(face_arr)\n",
    "    except:\n",
    "        print(f'Error for file: {file}')\n",
    "\n",
    "print(f'{len(masked_arrays)} pictures converted.')    "
   ]
  },
  {
   "cell_type": "code",
   "execution_count": 75,
   "id": "4b67b879",
   "metadata": {},
   "outputs": [
    {
     "name": "stdout",
     "output_type": "stream",
     "text": [
      "X shape: (2923, 256, 256, 3)\n",
      "y shape: (2923, 3)\n"
     ]
    }
   ],
   "source": [
    "# X should contain both cats and dogs\n",
    "X = unmasked_arrays + masked_arrays + inc_masked_arrays\n",
    "# convert to array and check shape\n",
    "X = np.array(X)\n",
    "print(f'X shape: {X.shape}')\n",
    "\n",
    "# 0 for unmasked, 1 for correct masked, 2 for below the nose\n",
    "y = [0] * 1000 + [1] * 962 + [2] * 961\n",
    "y = to_categorical(y)\n",
    "# convert to array and check shape\n",
    "y = np.array(y)\n",
    "print(f'y shape: {y.shape}')"
   ]
  },
  {
   "cell_type": "markdown",
   "id": "8147fd38",
   "metadata": {},
   "source": [
    "### Train-test splitting"
   ]
  },
  {
   "cell_type": "code",
   "execution_count": 76,
   "id": "c998fa9d",
   "metadata": {},
   "outputs": [],
   "source": [
    "X_train, X_test, y_train, y_test = train_test_split(X, y, random_state=42, stratify=y)"
   ]
  },
  {
   "cell_type": "code",
   "execution_count": 77,
   "id": "33e276c0",
   "metadata": {},
   "outputs": [],
   "source": [
    "X_train = np.array(X_train)#.reshape(1499, 256, 256, 3)"
   ]
  },
  {
   "cell_type": "code",
   "execution_count": 78,
   "id": "98d3716d",
   "metadata": {},
   "outputs": [],
   "source": [
    "X_test = np.array(X_test)#.reshape(500, 256, 256, 3)"
   ]
  },
  {
   "cell_type": "code",
   "execution_count": 79,
   "id": "320f087f",
   "metadata": {},
   "outputs": [
    {
     "data": {
      "text/plain": [
       "(256, 256, 3)"
      ]
     },
     "execution_count": 79,
     "metadata": {},
     "output_type": "execute_result"
    }
   ],
   "source": [
    "X_train[0].shape"
   ]
  },
  {
   "cell_type": "code",
   "execution_count": 80,
   "id": "209498be",
   "metadata": {},
   "outputs": [
    {
     "data": {
      "text/plain": [
       "(2192, 3)"
      ]
     },
     "execution_count": 80,
     "metadata": {},
     "output_type": "execute_result"
    }
   ],
   "source": [
    "y_train.shape"
   ]
  },
  {
   "cell_type": "markdown",
   "id": "976473bb",
   "metadata": {
    "jupyter": {
     "source_hidden": true
    },
    "tags": []
   },
   "source": [
    "## Convolutional Neural Networks\n",
    "\n",
    "CNNs do some complicated math up front to represent images more effectively and in a way that generalizes, allowing us to learn far fewer parameters in later layers.\n",
    "\n",
    "A CNN will generally consist of three types of layers:\n",
    "\n",
    "- Convolutional Layer\n",
    "- Pooling Layer\n",
    "- Densely Connected Layer\n",
    "\n",
    "<img src=\"images/cnn.jpeg\" alt=\"drawing\" width=\"600\"/>\n",
    "\n",
    "[Image source.](https://towardsdatascience.com/a-comprehensive-guide-to-convolutional-neural-networks-the-eli5-way-3bd2b1164a53)\n",
    "\n",
    "### Convolution Layers\n",
    "\n",
    "The convolution layer is where we pass a filter over an image and do some calculation at each step. Specifically, we take pixels that are close to one another, then summarize them with one number. The goal of the convolution layer is to identify important features in our images, like edges.\n",
    "\n",
    "<img src=\"images/convolution.gif\" alt=\"drawing\" width=\"550\"/>\n",
    "\n",
    "[Image source.](https://ujjwalkarn.me/2016/08/11/intuitive-explanation-convnets/)\n",
    "\n",
    "Our hyperparameters here are:\n",
    "- the number of filters to use\n",
    "- the dimensions of the filter\n",
    "\n",
    "**How many filters should we use?** Well, this is a hyperparameter. There's not one great answer, but the idea is that each filter can detect one type of feature in an image (like vertical edges). This may depend on the complexity of your images (simpler images require fewer filters) and usually requires trial and error to identify an adequate value of `filters`. [Source](https://stats.stackexchange.com/questions/196646/what-is-the-significance-of-the-number-of-convolution-filters-in-a-convolutional)\n",
    "\n",
    "### Pooling Layer\n",
    "\n",
    "Remember that CNNs learn far fewer parameters than a regular feed-forward neural network. Most of the \"parameter reduction\" comes from the pooling layer.\n",
    "\n",
    "<img src=\"images/maxpool.png\" alt=\"drawing\" width=\"400\"/>\n",
    "\n",
    "[Image source.](https://ujjwalkarn.me/2016/08/11/intuitive-explanation-convnets/)\n",
    "\n",
    "In Max Pooling, we pass a filter over an image. At each step, we take the maximum value and record it as part of the output.\n",
    "- Average Pooling exists, but is far less frequently used. [Andrew Ng](https://www.deeplearning.ai/deep-learning-specialization/) recommends using Max Pooling.\n",
    "- When pooling, we generally partition the result from the previous layer. That is, the filter does not usually overlap like it does in the convolutional layer.\n",
    "\n",
    "Our hyperparameters here are the **dimensions of the filter we use when pooling**. This is given by `pool_size = (2, 2)` in our example.\n",
    "\n",
    "##### Why use max pooling?\n",
    "1. Reduces the data dimensionality.\n",
    "2. Protects against overfitting by creating a more abstract representation.\n",
    "3. Provides some invariance by ignoring insignificant local changes in the image.\n",
    "\n",
    "### Densely-Connected Layer\n",
    "The densely-connected layer is the exact same as in a normal feed-forward neural network, so we won't spend any time talking about that, **except: remember to pass a `Flatten()` layer before a `Dense()` layer!**"
   ]
  },
  {
   "cell_type": "code",
   "execution_count": 94,
   "id": "4b6f8fd4",
   "metadata": {},
   "outputs": [
    {
     "name": "stdout",
     "output_type": "stream",
     "text": [
      "Epoch 1/10\n",
      "35/35 [==============================] - 102s 3s/step - loss: 1.2854 - acc: 0.7085 - val_loss: 0.1778 - val_acc: 0.9439\n",
      "Epoch 2/10\n",
      "35/35 [==============================] - 103s 3s/step - loss: 0.1226 - acc: 0.9617 - val_loss: 0.0644 - val_acc: 0.9795\n",
      "Epoch 3/10\n",
      "35/35 [==============================] - 102s 3s/step - loss: 0.0502 - acc: 0.9859 - val_loss: 0.0649 - val_acc: 0.9822\n",
      "Epoch 4/10\n",
      "35/35 [==============================] - 103s 3s/step - loss: 0.0361 - acc: 0.9913 - val_loss: 0.0661 - val_acc: 0.9836\n",
      "Epoch 5/10\n",
      "35/35 [==============================] - 101s 3s/step - loss: 0.0181 - acc: 0.9950 - val_loss: 0.1336 - val_acc: 0.9603\n",
      "Epoch 6/10\n",
      "35/35 [==============================] - 104s 3s/step - loss: 0.0332 - acc: 0.9881 - val_loss: 0.0657 - val_acc: 0.9836\n",
      "Epoch 7/10\n",
      "35/35 [==============================] - 103s 3s/step - loss: 0.0094 - acc: 0.9964 - val_loss: 0.0517 - val_acc: 0.9918\n",
      "Epoch 8/10\n",
      "35/35 [==============================] - 104s 3s/step - loss: 0.0028 - acc: 0.9995 - val_loss: 0.0525 - val_acc: 0.9918\n",
      "Epoch 9/10\n",
      "35/35 [==============================] - 104s 3s/step - loss: 3.7691e-04 - acc: 1.0000 - val_loss: 0.0564 - val_acc: 0.9918\n",
      "Epoch 10/10\n",
      "35/35 [==============================] - 103s 3s/step - loss: 2.0590e-04 - acc: 1.0000 - val_loss: 0.0558 - val_acc: 0.9932\n"
     ]
    }
   ],
   "source": [
    "# TODO: add early stopping \n",
    "\n",
    "input_shape = (256,256,3)\n",
    "model = Sequential()\n",
    "\n",
    "# conv, pool \n",
    "# 64 filters, (3,3) will need to tune these hyperparameters later\n",
    "# two rounds of feature selection! \n",
    "model.add(Conv2D(64, (3,3), activation='relu', input_shape=input_shape))\n",
    "model.add(MaxPooling2D((2,2)))\n",
    "\n",
    "# conv, pool\n",
    "model.add(Conv2D(64, (3,3), activation='relu'))\n",
    "model.add(MaxPooling2D((2,2)))\n",
    "\n",
    "# flatten/dense, dense layer needs the flat format because it can't handle a matrix\n",
    "model.add(Flatten())\n",
    "model.add(Dense(64, activation='relu'))\n",
    "\n",
    "# dense/output\n",
    "model.add(Dense(3, activation='softmax'))\n",
    "\n",
    "model.compile(optimizer='adam', \n",
    "             loss='categorical_crossentropy', \n",
    "             metrics=['acc'])\n",
    "\n",
    "results = model.fit(X_train, y_train,\n",
    "         validation_data=(X_test, y_test),\n",
    "         epochs=10,\n",
    "         batch_size=64)"
   ]
  },
  {
   "cell_type": "code",
   "execution_count": 95,
   "id": "ae999014",
   "metadata": {},
   "outputs": [
    {
     "name": "stdout",
     "output_type": "stream",
     "text": [
      "Model: \"sequential_9\"\n",
      "_________________________________________________________________\n",
      "Layer (type)                 Output Shape              Param #   \n",
      "=================================================================\n",
      "conv2d_16 (Conv2D)           (None, 254, 254, 64)      1792      \n",
      "_________________________________________________________________\n",
      "max_pooling2d_16 (MaxPooling (None, 127, 127, 64)      0         \n",
      "_________________________________________________________________\n",
      "conv2d_17 (Conv2D)           (None, 125, 125, 64)      36928     \n",
      "_________________________________________________________________\n",
      "max_pooling2d_17 (MaxPooling (None, 62, 62, 64)        0         \n",
      "_________________________________________________________________\n",
      "flatten_8 (Flatten)          (None, 246016)            0         \n",
      "_________________________________________________________________\n",
      "dense_16 (Dense)             (None, 64)                15745088  \n",
      "_________________________________________________________________\n",
      "dense_17 (Dense)             (None, 3)                 195       \n",
      "=================================================================\n",
      "Total params: 15,784,003\n",
      "Trainable params: 15,784,003\n",
      "Non-trainable params: 0\n",
      "_________________________________________________________________\n"
     ]
    }
   ],
   "source": [
    "model.summary()"
   ]
  },
  {
   "cell_type": "code",
   "execution_count": 96,
   "id": "adc0bc1a",
   "metadata": {},
   "outputs": [
    {
     "name": "stdout",
     "output_type": "stream",
     "text": [
      "WARNING:tensorflow:5 out of the last 5 calls to <function Model.make_predict_function.<locals>.predict_function at 0x000001C575F13160> triggered tf.function retracing. Tracing is expensive and the excessive number of tracings could be due to (1) creating @tf.function repeatedly in a loop, (2) passing tensors with different shapes, (3) passing Python objects instead of tensors. For (1), please define your @tf.function outside of the loop. For (2), @tf.function has experimental_relax_shapes=True option that relaxes argument shapes that can avoid unnecessary retracing. For (3), please refer to https://www.tensorflow.org/tutorials/customization/performance#python_or_tensor_args and https://www.tensorflow.org/api_docs/python/tf/function for  more details.\n"
     ]
    },
    {
     "data": {
      "text/plain": [
       "array([[9.9989784e-01, 2.2386948e-09, 1.0217136e-04]], dtype=float32)"
      ]
     },
     "execution_count": 96,
     "metadata": {},
     "output_type": "execute_result"
    }
   ],
   "source": [
    "model.predict(X_test[0:1])"
   ]
  },
  {
   "cell_type": "code",
   "execution_count": 97,
   "id": "3830a4a4",
   "metadata": {
    "tags": []
   },
   "outputs": [
    {
     "data": {
      "image/png": "[encoded data removed]",
      "text/plain": [
       "<Figure size 864x576 with 1 Axes>"
      ]
     },
     "metadata": {
      "needs_background": "light"
     },
     "output_type": "display_data"
    }
   ],
   "source": [
    "# Visualize the loss\n",
    "train_loss = results.history['loss']\n",
    "test_loss = results.history['val_loss']\n",
    "\n",
    "plt.figure(figsize=(12, 8))\n",
    "plt.plot(train_loss, label='Training loss', color='navy')\n",
    "plt.plot(test_loss, label='Testing loss', color='skyblue')\n",
    "plt.legend();"
   ]
  },
  {
   "cell_type": "code",
   "execution_count": 98,
   "id": "0ab0a258",
   "metadata": {
    "tags": []
   },
   "outputs": [
    {
     "data": {
      "image/png": "[encoded data removed]",
      "text/plain": [
       "<Figure size 864x576 with 1 Axes>"
      ]
     },
     "metadata": {
      "needs_background": "light"
     },
     "output_type": "display_data"
    }
   ],
   "source": [
    "# Visualize the accuracy\n",
    "train_acc = results.history['acc']\n",
    "test_acc = results.history['val_acc']\n",
    "\n",
    "plt.figure(figsize=(12, 8))\n",
    "plt.plot(train_acc, label='Training accuracy', color='navy')\n",
    "plt.plot(test_acc, label='Testing accuracy', color='skyblue')\n",
    "plt.legend();"
   ]
  },
  {
   "cell_type": "markdown",
   "id": "284e42ae",
   "metadata": {},
   "source": [
    "-----\n",
    "\n",
    "## Additional resources\n",
    "\n",
    "- [Convnets on small datasets](https://rstudio-pubs-static.s3.amazonaws.com/343094_6e28962e50814b3ab33d4d816a79e66e.html)\n",
    "- [Keras: image classification from scratch](https://keras.io/examples/vision/image_classification_from_scratch/)\n",
    "- [Keras: building powerful models on small datasets](https://blog.keras.io/building-powerful-image-classification-models-using-very-little-data.html)\n",
    "- [Keras: transfer learning](https://www.tensorflow.org/tutorials/images/transfer_learning)\n",
    "- [Chollet: visualizing what convnets learn](https://github.com/fchollet/deep-learning-with-python-notebooks/blob/master/5.4-visualizing-what-convnets-learn.ipynb)\n",
    "- [Jordan: intro to convnets](https://www.jeremyjordan.me/convolutional-neural-networks/)"
   ]
  }
 ],
 "metadata": {
  "kernelspec": {
   "display_name": "Python 3",
   "language": "python",
   "name": "python3"
  },
  "language_info": {
   "codemirror_mode": {
    "name": "ipython",
    "version": 3
   },
   "file_extension": ".py",
   "mimetype": "text/x-python",
   "name": "python",
   "nbconvert_exporter": "python",
   "pygments_lexer": "ipython3",
   "version": "3.8.8"
  },
  "varInspector": {
   "cols": {
    "lenName": 16,
    "lenType": 16,
    "lenVar": 40
   },
   "kernels_config": {
    "python": {
     "delete_cmd_postfix": "",
     "delete_cmd_prefix": "del ",
     "library": "var_list.py",
     "varRefreshCmd": "print(var_dic_list())"
    },
    "r": {
     "delete_cmd_postfix": ") ",
     "delete_cmd_prefix": "rm(",
     "library": "var_list.r",
     "varRefreshCmd": "cat(var_dic_list()) "
    }
   },
   "types_to_exclude": [
    "module",
    "function",
    "builtin_function_or_method",
    "instance",
    "_Feature"
   ],
   "window_display": false
  }
 },
 "nbformat": 4,
 "nbformat_minor": 5
}
