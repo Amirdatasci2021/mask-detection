{
 "cells": [
  {
   "cell_type": "markdown",
   "id": "23cf6bf9",
   "metadata": {},
   "source": [
    "# Convolutional Neural Network Modeling\n",
    "---"
   ]
  },
  {
   "cell_type": "markdown",
   "id": "543d1ecf",
   "metadata": {},
   "source": [
    "To run this notebook, you need to have the Tensorflow package installed. It might be best to set up a virtual environment for this, but you can read more in the [Tensorflow documentation](https://www.tensorflow.org/install)"
   ]
  },
  {
   "cell_type": "code",
   "execution_count": 1,
   "id": "dc05b841",
   "metadata": {},
   "outputs": [],
   "source": [
    "# Imports\n",
    "import matplotlib.pyplot as plt\n",
    "import numpy as np\n",
    "import os\n",
    "import pandas as pd\n",
    "import tensorflow as tf\n",
    "\n",
    "from tensorflow.keras.layers import Dense, Dropout, Flatten, Conv2D, MaxPooling2D\n",
    "from tensorflow.keras.models import Sequential\n",
    "from tensorflow.keras.preprocessing.image import img_to_array, load_img\n",
    "from tensorflow.keras.utils import to_categorical\n",
    "\n",
    "from sklearn.model_selection import train_test_split\n",
    "from sklearn.metrics import classification_report, ConfusionMatrixDisplay, confusion_matrix\n",
    "\n",
    "# For reproducibility\n",
    "np.random.seed(42)"
   ]
  },
  {
   "cell_type": "markdown",
   "id": "7d35648a",
   "metadata": {},
   "source": [
    "---\n",
    "### Importing the data\n",
    "\n",
    "The function below does the following:\n",
    "\n",
    "- Creates a list to store array representations of images from a given class\n",
    "- Normalizes the array values\n",
    "- Adds the normalized array to the array list\n",
    "- Prints an error message for files that could not be converted\n",
    "- Converts the lists to a numpy array representation for compatibility with keras"
   ]
  },
  {
   "cell_type": "code",
   "execution_count": 2,
   "id": "fe012dfc",
   "metadata": {},
   "outputs": [],
   "source": [
    "data_path = '../data/'"
   ]
  },
  {
   "cell_type": "code",
   "execution_count": 3,
   "id": "30133993",
   "metadata": {
    "tags": []
   },
   "outputs": [],
   "source": [
    "# Create a function to turn images into arrays\n",
    "def process_images(folder_list):\n",
    "    arrays = []\n",
    "    \n",
    "    for folder in folder_list:\n",
    "    \n",
    "        path = data_path + folder\n",
    "\n",
    "        for file in os.listdir(path):\n",
    "            if not file.startswith('.'):\n",
    "                try:\n",
    "                    image = load_img(path + file)\n",
    "\n",
    "                    # normalize the arrays to get values to be less than 1\n",
    "                    image_array = img_to_array(image) / 255\n",
    "                    arrays.append(image_array)\n",
    "\n",
    "                except:\n",
    "                    print(f'Error for file: {file}')\n",
    "\n",
    "    print(f'{len(arrays)} pictures converted in total.')\n",
    "    return arrays"
   ]
  },
  {
   "cell_type": "code",
   "execution_count": 4,
   "id": "74f0199c",
   "metadata": {},
   "outputs": [
    {
     "name": "stdout",
     "output_type": "stream",
     "text": [
      "2907 pictures converted in total.\n"
     ]
    }
   ],
   "source": [
    "folders_cor_mask = ['04000/', '05000/', '06000/']\n",
    "cor_mask = process_images(folders_cor_mask)"
   ]
  },
  {
   "cell_type": "code",
   "execution_count": 5,
   "id": "c9a322c7",
   "metadata": {},
   "outputs": [
    {
     "name": "stdout",
     "output_type": "stream",
     "text": [
      "3000 pictures converted in total.\n"
     ]
    }
   ],
   "source": [
    "folders_no_mask = ['09000/', '10000/', '11000/']\n",
    "no_mask = process_images(folders_no_mask)"
   ]
  },
  {
   "cell_type": "code",
   "execution_count": 6,
   "id": "358a160f",
   "metadata": {},
   "outputs": [
    {
     "name": "stdout",
     "output_type": "stream",
     "text": [
      "2877 pictures converted in total.\n"
     ]
    }
   ],
   "source": [
    "folders_inc_mask =  ['13000/', '14000/', '15000/']\n",
    "inc_mask = process_images(folders_inc_mask)"
   ]
  },
  {
   "cell_type": "markdown",
   "id": "e0072cef",
   "metadata": {},
   "source": [
    "We can see here that our total number of images in each class isn't quite equal, but we have more than enough data from each class to continue. The code below merges all of the arrays together so that we can pass them to a model."
   ]
  },
  {
   "cell_type": "code",
   "execution_count": 7,
   "id": "6b13a0dc",
   "metadata": {},
   "outputs": [
    {
     "name": "stdout",
     "output_type": "stream",
     "text": [
      "X shape: (8784, 256, 256, 3)\n",
      "y shape: (8784, 3)\n"
     ]
    }
   ],
   "source": [
    "# Create X var with our image arrays\n",
    "X = no_mask + cor_mask + inc_mask\n",
    "\n",
    "# convert to array and check shape\n",
    "X = np.array(X)\n",
    "print(f'X shape: {X.shape}')\n",
    "\n",
    "# Create y var for our target\n",
    "# 0 for unmasked, 1 for correct masked, 2 for incorrectly masked\n",
    "y = [0] * len(no_mask) + [1] * len(cor_mask) + [2] * len(inc_mask)\n",
    "y = to_categorical(y)\n",
    "\n",
    "# convert to array and check shape\n",
    "y = np.array(y)\n",
    "print(f'y shape: {y.shape}')"
   ]
  },
  {
   "cell_type": "markdown",
   "id": "33df5163",
   "metadata": {},
   "source": [
    "---\n",
    "### Train-test splitting"
   ]
  },
  {
   "cell_type": "markdown",
   "id": "52fe35df",
   "metadata": {},
   "source": [
    "We need to split our data into training and testing samples for model validation. We have 3 classes, about equally represented, and we can stratify on y to preserve that representation."
   ]
  },
  {
   "cell_type": "code",
   "execution_count": 8,
   "id": "306e6f42",
   "metadata": {},
   "outputs": [],
   "source": [
    "X_train, X_test, y_train, y_test = train_test_split(X, y, random_state=42, stratify=y)"
   ]
  },
  {
   "cell_type": "markdown",
   "id": "80dcf263",
   "metadata": {},
   "source": [
    "Make sure that these training and testing sets are arrays, because that's the format our model will be looking for."
   ]
  },
  {
   "cell_type": "code",
   "execution_count": 9,
   "id": "ffc2b298",
   "metadata": {},
   "outputs": [],
   "source": [
    "X_train = np.array(X_train)\n",
    "X_test = np.array(X_test)"
   ]
  },
  {
   "cell_type": "markdown",
   "id": "b08d429c",
   "metadata": {},
   "source": [
    "Let's check the shapes of our X_train and y_train to ensure things look good."
   ]
  },
  {
   "cell_type": "code",
   "execution_count": 10,
   "id": "f0495c54",
   "metadata": {},
   "outputs": [
    {
     "data": {
      "text/plain": [
       "(6588, 256, 256, 3)"
      ]
     },
     "execution_count": 10,
     "metadata": {},
     "output_type": "execute_result"
    }
   ],
   "source": [
    "X_train.shape"
   ]
  },
  {
   "cell_type": "code",
   "execution_count": 11,
   "id": "97f72ffa",
   "metadata": {},
   "outputs": [
    {
     "data": {
      "text/plain": [
       "(6588, 3)"
      ]
     },
     "execution_count": 11,
     "metadata": {},
     "output_type": "execute_result"
    }
   ],
   "source": [
    "y_train.shape"
   ]
  },
  {
   "cell_type": "markdown",
   "id": "7ba6f02b",
   "metadata": {},
   "source": [
    "The input layer of our model should have an input shape of (256, 256, 3), because this is the size of a single image's array. This translates to 256 pixels by 256 pixels by 3 color channels (red, green, and blue). "
   ]
  },
  {
   "cell_type": "markdown",
   "id": "cae7c01b",
   "metadata": {},
   "source": [
    "---\n",
    "### Building a Convolutional Neural Network\n",
    "\n"
   ]
  },
  {
   "cell_type": "markdown",
   "id": "2661dfec",
   "metadata": {},
   "source": [
    "### A discussion of our neural network structure:\n",
    "\n",
    "We went through a few different iterations of model building before settling on a relatively simple neural network.\n",
    "\n",
    "##### Convolution Layers\n",
    "\n",
    "We originally had two convolutional layers that were both 64 nodes, and our computers had quite a time with this; so did Google Colab. The resulting models were incredibly accurate, but it appeared to be overkill in the situation. We eventually went with two convolutional layers with 16 nodes each as these were roughly as accurate while being a fraction of the computational expense. We found that working with fewer nodes, but more epochs wound up being just as accurate as more nodes and fewer epochs.\n",
    "\n",
    "##### Pooling Layers\n",
    "\n",
    "We included pooling layers after each convolutional layer, as this helps to reduce data dimensionality and protects against overfitting.\n",
    "\n",
    "##### Output Layer\n",
    "\n",
    "We have three nodes for our output layer as we are attempting to predict for three possible outcomes.\n",
    "\n",
    "##### Hyperparameter Tuning\n",
    "\n",
    "We were unable to perform a gridsearch to tune hyperparameters for our model because running neural networks on a dataset of 9,000 images takes a considerable amount of computing power. Ideally, hyperparameters that we would have tuned here include the number of layers, the size of the Conv2D and MaxPooling2D filters, and the number of nodes for each layer. \n",
    "\n",
    "##### Baseline Model\n",
    "\n",
    "Our baseline model is around 34% (3000/8784) using our majority class, which is the 'no mask' class. This is the baseline accuracy we're hoping to beat! "
   ]
  },
  {
   "cell_type": "code",
   "execution_count": 12,
   "id": "d86d1357",
   "metadata": {},
   "outputs": [],
   "source": [
    "input_shape = (256,256,3) # equal to X_train[0].shape\n",
    "model = Sequential()\n",
    "\n",
    "# two rounds of feature selection and pooling\n",
    "model.add(Conv2D(16, (3,3), activation='relu', input_shape=input_shape))\n",
    "model.add(MaxPooling2D((2,2)))\n",
    "\n",
    "model.add(Conv2D(16, (3,3), activation='relu'))\n",
    "model.add(MaxPooling2D((2,2)))\n",
    "\n",
    "# a plain dense layer needs the flat format because it can't handle a matrix\n",
    "model.add(Flatten())\n",
    "model.add(Dense(16, activation='relu'))\n",
    "\n",
    "# output layer\n",
    "model.add(Dense(3, activation='softmax'))\n",
    "\n",
    "# compile the model\n",
    "model.compile(optimizer='adam', \n",
    "             loss='categorical_crossentropy', \n",
    "             metrics=['acc', tf.keras.metrics.Recall(), tf.keras.metrics.Precision()])\n",
    "\n",
    "# fit the model and get results\n",
    "results = model.fit(X_train, y_train,\n",
    "         validation_data=(X_test, y_test),\n",
    "         epochs=25,\n",
    "         batch_size=64,\n",
    "         verbose=0)"
   ]
  },
  {
   "cell_type": "code",
   "execution_count": 13,
   "id": "0e4d721b",
   "metadata": {},
   "outputs": [
    {
     "name": "stdout",
     "output_type": "stream",
     "text": [
      "Model: \"sequential\"\n",
      "_________________________________________________________________\n",
      "Layer (type)                 Output Shape              Param #   \n",
      "=================================================================\n",
      "conv2d (Conv2D)              (None, 254, 254, 16)      448       \n",
      "_________________________________________________________________\n",
      "max_pooling2d (MaxPooling2D) (None, 127, 127, 16)      0         \n",
      "_________________________________________________________________\n",
      "conv2d_1 (Conv2D)            (None, 125, 125, 16)      2320      \n",
      "_________________________________________________________________\n",
      "max_pooling2d_1 (MaxPooling2 (None, 62, 62, 16)        0         \n",
      "_________________________________________________________________\n",
      "flatten (Flatten)            (None, 61504)             0         \n",
      "_________________________________________________________________\n",
      "dense (Dense)                (None, 16)                984080    \n",
      "_________________________________________________________________\n",
      "dense_1 (Dense)              (None, 3)                 51        \n",
      "=================================================================\n",
      "Total params: 986,899\n",
      "Trainable params: 986,899\n",
      "Non-trainable params: 0\n",
      "_________________________________________________________________\n"
     ]
    }
   ],
   "source": [
    "model.summary()"
   ]
  },
  {
   "cell_type": "markdown",
   "id": "1a9417e1",
   "metadata": {},
   "source": [
    "The printout above shows us that this model has a total of 986,899 trainable parameters! Even after simplifying our model, there's still an astronomical amount of work going on behind the scenes here. Next, we can get predictions and start looking at some of those evaluation metrics we included in the compile step."
   ]
  },
  {
   "cell_type": "markdown",
   "id": "0f679e26",
   "metadata": {},
   "source": [
    "If you'd like to run the rest of the notebook without training this model from scratch, you can load it in using the cell below."
   ]
  },
  {
   "cell_type": "code",
   "execution_count": 18,
   "id": "d02f9c84",
   "metadata": {},
   "outputs": [],
   "source": [
    "# model = load_model('../mask_model.h5')"
   ]
  },
  {
   "cell_type": "code",
   "execution_count": 16,
   "id": "8b1ed618",
   "metadata": {},
   "outputs": [],
   "source": [
    "preds = model.predict(X_test)"
   ]
  },
  {
   "cell_type": "code",
   "execution_count": 17,
   "id": "ca2f7104",
   "metadata": {},
   "outputs": [
    {
     "data": {
      "text/plain": [
       "array([[9.9999833e-01, 2.0678180e-19, 1.6835723e-06],\n",
       "       [8.3883301e-17, 2.6376311e-11, 1.0000000e+00],\n",
       "       [1.0000000e+00, 3.8517058e-27, 1.7145709e-09],\n",
       "       [9.9999416e-01, 4.0185086e-19, 5.8099040e-06],\n",
       "       [1.7780365e-12, 2.4033433e-09, 1.0000000e+00]], dtype=float32)"
      ]
     },
     "execution_count": 17,
     "metadata": {},
     "output_type": "execute_result"
    }
   ],
   "source": [
    "preds[:5]"
   ]
  },
  {
   "cell_type": "markdown",
   "id": "f15de324",
   "metadata": {},
   "source": [
    "Checking just one prediction, our model outputs a list of fractions. These fractions represent "
   ]
  },
  {
   "cell_type": "code",
   "execution_count": 19,
   "id": "6dd7e181",
   "metadata": {},
   "outputs": [],
   "source": [
    "train_loss = results.history['loss']\n",
    "test_loss = results.history['val_loss']\n",
    "train_acc = results.history['acc']\n",
    "test_acc = results.history['val_acc']"
   ]
  },
  {
   "cell_type": "code",
   "execution_count": 20,
   "id": "a793dfea",
   "metadata": {
    "tags": []
   },
   "outputs": [
    {
     "data": {
      "image/png": "[encoded data removed]",
      "text/plain": [
       "<Figure size 1728x576 with 2 Axes>"
      ]
     },
     "metadata": {
      "needs_background": "light"
     },
     "output_type": "display_data"
    }
   ],
   "source": [
    "# Visualize the loss and accuracy\n",
    "\n",
    "fig, (ax1, ax2) = plt.subplots(1, 2, figsize=(24, 8))\n",
    "\n",
    "# Plot loss\n",
    "ax1.set_title('Model Loss', size=24)\n",
    "ax1.set_xlabel('Epochs', size=18)\n",
    "ax1.set_ylabel('Loss', size=18)\n",
    "\n",
    "ax1.plot(train_loss, label='Training loss')\n",
    "ax1.plot(test_loss, label='Testing loss')\n",
    "\n",
    "# Plot accuracy\n",
    "ax2.set_title('Model Accuracy', size=24)\n",
    "ax2.set_xlabel('Epochs', size=18)\n",
    "ax2.set_ylabel('Accuracy', size=18)\n",
    "\n",
    "ax2.plot(train_acc, label='Training accuracy')\n",
    "ax2.plot(test_acc, label='Testing accuracy')\n",
    "\n",
    "ax1.legend()\n",
    "\n",
    "plt.tight_layout()\n",
    "plt.savefig('../figures/loss_acc.png')"
   ]
  },
  {
   "cell_type": "code",
   "execution_count": 21,
   "id": "f59d5854",
   "metadata": {},
   "outputs": [],
   "source": [
    "train_prec = results.history['precision']\n",
    "test_prec = results.history['val_precision']\n",
    "\n",
    "train_rec = results.history['recall']\n",
    "test_rec = results.history['val_recall']"
   ]
  },
  {
   "cell_type": "code",
   "execution_count": 22,
   "id": "7d8f6c5b",
   "metadata": {
    "tags": []
   },
   "outputs": [
    {
     "data": {
      "image/png": "[encoded data removed]",
      "text/plain": [
       "<Figure size 1728x576 with 2 Axes>"
      ]
     },
     "metadata": {
      "needs_background": "light"
     },
     "output_type": "display_data"
    }
   ],
   "source": [
    "# Visualize the loss and accuracy\n",
    "\n",
    "fig, (ax1, ax2) = plt.subplots(1, 2, figsize=(24, 8))\n",
    "\n",
    "# Plot loss\n",
    "ax1.set_title('Model Precision', size=24)\n",
    "ax1.set_xlabel('Epochs', size=18)\n",
    "ax1.set_ylabel('Precision', size=18)\n",
    "\n",
    "ax1.plot(train_prec, label='Training precision')\n",
    "ax1.plot(test_prec, label='Testing precision')\n",
    "\n",
    "# Plot accuracy\n",
    "ax2.set_title('Model Recall', size=24)\n",
    "ax2.set_xlabel('Epochs', size=18)\n",
    "ax2.set_ylabel('Recall', size=18)\n",
    "\n",
    "ax2.plot(train_rec, label='Training recall')\n",
    "ax2.plot(test_rec, label='Testing recall')\n",
    "\n",
    "ax1.legend()\n",
    "\n",
    "plt.tight_layout()\n",
    "plt.savefig('../figures/prec_rec.png')"
   ]
  },
  {
   "cell_type": "markdown",
   "id": "eacdfe25",
   "metadata": {},
   "source": [
    "The below code turns our array of fractional predictions and `y_test` array into lists of integer representations of our three classes. This transformation will let us easily view our model predictions and misclassifications in a confusion matrix. "
   ]
  },
  {
   "cell_type": "code",
   "execution_count": 23,
   "id": "6c2c1897",
   "metadata": {},
   "outputs": [],
   "source": [
    "y_pred = [np.argmax(y, axis=None, out=None) for y in preds]\n",
    "y_true = [np.argmax(y, axis=None, out=None) for y in y_test]"
   ]
  },
  {
   "cell_type": "code",
   "execution_count": 24,
   "id": "4f0e3f41",
   "metadata": {},
   "outputs": [
    {
     "data": {
      "image/png": "[encoded data removed]",
      "text/plain": [
       "<Figure size 576x576 with 2 Axes>"
      ]
     },
     "metadata": {
      "needs_background": "light"
     },
     "output_type": "display_data"
    }
   ],
   "source": [
    "labels = ['No mask', 'Correctly worn mask', 'Incorrectly worn mask']\n",
    "\n",
    "fig, ax = plt.subplots(figsize=(8,8))\n",
    "\n",
    "cm = confusion_matrix(y_true, y_pred)\n",
    "ConfusionMatrixDisplay(cm, display_labels=labels).plot(ax=ax);"
   ]
  },
  {
   "cell_type": "markdown",
   "id": "319dbe94",
   "metadata": {},
   "source": [
    "This model made very few misclassifications! It'd be interesting to explore which images it misclassified and try to see what it gets confused by."
   ]
  },
  {
   "cell_type": "code",
   "execution_count": 25,
   "id": "c036a137",
   "metadata": {},
   "outputs": [
    {
     "name": "stdout",
     "output_type": "stream",
     "text": [
      "34.3351548269581% of predictions were of no mask.\n",
      "33.1511839708561% of predictions were of correctly worn masks.\n",
      "32.513661202185794% of predictions were of incorrectly worn masks.\n"
     ]
    }
   ],
   "source": [
    "print(f'{100 * y_pred.count(0) / len(y_pred)}% of predictions were of no mask.')\n",
    "print(f'{100 * y_pred.count(1) / len(y_pred)}% of predictions were of correctly worn masks.')\n",
    "print(f'{100 * y_pred.count(2) / len(y_pred)}% of predictions were of incorrectly worn masks.')"
   ]
  },
  {
   "cell_type": "markdown",
   "id": "3e1812f5",
   "metadata": {},
   "source": [
    "We can save this model and use it in our live feed script! Change the name below if you want to save multiple models without overwriting the previous one."
   ]
  },
  {
   "cell_type": "code",
   "execution_count": 26,
   "id": "8ff62f5b",
   "metadata": {},
   "outputs": [],
   "source": [
    "model.save('../mask_model.h5')"
   ]
  },
  {
   "cell_type": "markdown",
   "id": "dabbe44e",
   "metadata": {},
   "source": [
    "That's all we've got for you! Feel free to try out the live video classification on your own! "
   ]
  }
 ],
 "metadata": {
  "kernelspec": {
   "display_name": "Python 3",
   "language": "python",
   "name": "python3"
  },
  "language_info": {
   "codemirror_mode": {
    "name": "ipython",
    "version": 3
   },
   "file_extension": ".py",
   "mimetype": "text/x-python",
   "name": "python",
   "nbconvert_exporter": "python",
   "pygments_lexer": "ipython3",
   "version": "3.8.8"
  },
  "varInspector": {
   "cols": {
    "lenName": 16,
    "lenType": 16,
    "lenVar": 40
   },
   "kernels_config": {
    "python": {
     "delete_cmd_postfix": "",
     "delete_cmd_prefix": "del ",
     "library": "var_list.py",
     "varRefreshCmd": "print(var_dic_list())"
    },
    "r": {
     "delete_cmd_postfix": ") ",
     "delete_cmd_prefix": "rm(",
     "library": "var_list.r",
     "varRefreshCmd": "cat(var_dic_list()) "
    }
   },
   "types_to_exclude": [
    "module",
    "function",
    "builtin_function_or_method",
    "instance",
    "_Feature"
   ],
   "window_display": false
  }
 },
 "nbformat": 4,
 "nbformat_minor": 5
}
