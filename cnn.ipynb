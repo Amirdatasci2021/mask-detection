{
 "cells": [
  {
   "cell_type": "code",
   "execution_count": 1,
   "id": "minus-collar",
   "metadata": {},
   "outputs": [],
   "source": [
    "# imports\n",
    "import matplotlib.pyplot as plt\n",
    "import numpy as np\n",
    "import os\n",
    "import pandas as pd\n",
    "\n",
    "from tensorflow.keras.layers import Dense, Dropout, Flatten, Conv2D, MaxPooling2D\n",
    "from tensorflow.keras.models import Sequential\n",
    "from tensorflow.keras.preprocessing.image import img_to_array, load_img\n",
    "from tensorflow.keras.utils import to_categorical\n",
    "\n",
    "from sklearn.model_selection import train_test_split\n",
    "\n",
    "# For reproducibility\n",
    "np.random.seed(42)"
   ]
  },
  {
   "cell_type": "code",
   "execution_count": null,
   "id": "sublime-glory",
   "metadata": {},
   "outputs": [],
   "source": [
    "# from tensorflow.keras.preprocessing import image_dataset_from_directory\n",
    "# import tensorflow as tf\n",
    "# from tensorflow.keras import layers"
   ]
  },
  {
   "cell_type": "markdown",
   "id": "english-bathroom",
   "metadata": {},
   "source": [
    "## Preprocessing\n",
    "\n",
    "There are many different ways to pre-process image data, and the method used here is idiosyncratic rather than a best practice. In production code and in industry, you are likely to see many image preprocessing workflows similar to this one, and also many image preprocessing workflows that use keras's inbuilt tools. As keras gains wider adoption, and as keras is developed, I suspect more workflows will use keras's inbuilt tools, and fewer will use bespoke processes like the one below.\n",
    "\n",
    "In particular you should know about keras's [`image_dataset_from_directory`](https://keras.io/api/preprocessing/image/#image_dataset_from_directory-function) function, which is a convenient way to read in a directory of image data. Some of these tools allow for data augmentation as the data are imported and processed, which can be especially valuable when we have smaller datasets.\n",
    "\n",
    "### Importing the data\n",
    "\n",
    "The code below will do the following:\n",
    "\n",
    "- Create a list to store array representations of images from a given class\n",
    "- Convert the array to a normalized representation\n",
    "- Store the normalized array\n",
    "- Print an error message for files that could not be converted\n",
    "- Convert the lists to a numpy array representation for compatibility with keras"
   ]
  },
  {
   "cell_type": "code",
   "execution_count": 2,
   "id": "rough-pointer",
   "metadata": {},
   "outputs": [],
   "source": [
    "data_path = '../mask_data/'"
   ]
  },
  {
   "cell_type": "code",
   "execution_count": 3,
   "id": "desirable-think",
   "metadata": {
    "tags": []
   },
   "outputs": [
    {
     "name": "stdout",
     "output_type": "stream",
     "text": [
      "Error for file: .ipynb_checkpoints\n",
      "3000 pictures converted.\n"
     ]
    }
   ],
   "source": [
    "# create list\n",
    "unmasked_arrays = []\n",
    "# define filepath for unmasked class\n",
    "folder_list = ['09000/', '10000/', '11000/']\n",
    "\n",
    "# convert each image to normalized array and store\n",
    "for folder in folder_list:\n",
    "  unmasked_path = data_path + folder\n",
    "\n",
    "  for file in os.listdir(unmasked_path):\n",
    "      #print(file)\n",
    "      #print(dog_path+file)\n",
    "      try:\n",
    "          # target_size automatically resizes each img on import\n",
    "          face = load_img(unmasked_path + file, target_size=(256, 256))\n",
    "          face_arr = img_to_array(face) / 255\n",
    "          unmasked_arrays.append(face_arr)\n",
    "      except:\n",
    "          print(f'Error for file: {file}')\n",
    "\n",
    "print(f'{len(unmasked_arrays)} pictures converted.')  \n",
    "num_unmasked = len(unmasked_arrays)  "
   ]
  },
  {
   "cell_type": "code",
   "execution_count": 5,
   "id": "surgical-workplace",
   "metadata": {
    "tags": []
   },
   "outputs": [
    {
     "name": "stdout",
     "output_type": "stream",
     "text": [
      "Error for file: .ipynb_checkpoints\n",
      "2877 pictures converted.\n"
     ]
    }
   ],
   "source": [
    "# create list\n",
    "inc_masked_arrays = []\n",
    "# define filepath for incorrectly masked class\n",
    "folder_list = ['13000/', '14000/', '15000/']\n",
    "\n",
    "for folder in folder_list:\n",
    "  inc_masked_path = data_path + folder\n",
    "\n",
    "  # convert each image to normalized array and store\n",
    "  for file in os.listdir(inc_masked_path):\n",
    "      #print(file)\n",
    "      #print(dog_path+file)\n",
    "      try:\n",
    "          # target_size automatically resizes each img on import\n",
    "          face = load_img(inc_masked_path + file, target_size=(256, 256))\n",
    "          face_arr = img_to_array(face) / 255\n",
    "          inc_masked_arrays.append(face_arr)\n",
    "      except:\n",
    "          print(f'Error for file: {file}')\n",
    "\n",
    "print(f'{len(inc_masked_arrays)} pictures converted.')\n",
    "num_inc_unmasked = len(inc_masked_arrays)      "
   ]
  },
  {
   "cell_type": "code",
   "execution_count": 6,
   "id": "lesser-edwards",
   "metadata": {
    "tags": []
   },
   "outputs": [
    {
     "name": "stdout",
     "output_type": "stream",
     "text": [
      "Error for file: .ipynb_checkpoints\n",
      "Error for file: .ipynb_checkpoints\n",
      "2907 pictures converted.\n"
     ]
    }
   ],
   "source": [
    "# create list\n",
    "masked_arrays = []\n",
    "# define filepath for correctly masked class\n",
    "folder_list = ['04000/', '05000/', '06000/']\n",
    "\n",
    "for folder in folder_list:\n",
    "  masked_path = data_path + folder\n",
    "\n",
    "  # convert each image to normalized array and store\n",
    "  for file in os.listdir(masked_path):\n",
    "      #print(file)\n",
    "      #print(dog_path+file)\n",
    "      try:\n",
    "          # target_size automatically resizes each img on import\n",
    "          face = load_img(masked_path + file, target_size=(256, 256))\n",
    "          face_arr = img_to_array(face) / 255\n",
    "          masked_arrays.append(face_arr)\n",
    "      except:\n",
    "          print(f'Error for file: {file}')\n",
    "\n",
    "print(f'{len(masked_arrays)} pictures converted.')    \n",
    "num_cor_masked = len(masked_arrays)  "
   ]
  },
  {
   "cell_type": "code",
   "execution_count": 7,
   "id": "incorporated-williams",
   "metadata": {},
   "outputs": [
    {
     "name": "stdout",
     "output_type": "stream",
     "text": [
      "X shape: (8784, 256, 256, 3)\n",
      "y shape: (8784, 3)\n"
     ]
    }
   ],
   "source": [
    "# X should contain both cats and dogs\n",
    "X = unmasked_arrays + masked_arrays + inc_masked_arrays\n",
    "# convert to array and check shape\n",
    "X = np.array(X)\n",
    "print(f'X shape: {X.shape}')\n",
    "\n",
    "# 0 for unmasked, 1 for correct masked, 2 for incorrectly masked\n",
    "y = [0] * num_unmasked + [1] * num_cor_masked + [2] * num_inc_unmasked\n",
    "y = to_categorical(y)\n",
    "# convert to array and check shape\n",
    "y = np.array(y)\n",
    "print(f'y shape: {y.shape}')"
   ]
  },
  {
   "cell_type": "markdown",
   "id": "loaded-context",
   "metadata": {},
   "source": [
    "### Train-test splitting"
   ]
  },
  {
   "cell_type": "code",
   "execution_count": 8,
   "id": "comparative-phrase",
   "metadata": {},
   "outputs": [],
   "source": [
    "X_train, X_test, y_train, y_test = train_test_split(X, y, random_state=42, stratify=y)"
   ]
  },
  {
   "cell_type": "code",
   "execution_count": 9,
   "id": "stainless-heavy",
   "metadata": {},
   "outputs": [],
   "source": [
    "X_train = np.array(X_train)#.reshape(1499, 256, 256, 3)"
   ]
  },
  {
   "cell_type": "code",
   "execution_count": 10,
   "id": "excited-sudan",
   "metadata": {},
   "outputs": [],
   "source": [
    "X_test = np.array(X_test)#.reshape(500, 256, 256, 3)"
   ]
  },
  {
   "cell_type": "code",
   "execution_count": 11,
   "id": "shaped-healthcare",
   "metadata": {},
   "outputs": [
    {
     "data": {
      "text/plain": [
       "(256, 256, 3)"
      ]
     },
     "execution_count": 11,
     "metadata": {},
     "output_type": "execute_result"
    }
   ],
   "source": [
    "X_train[0].shape"
   ]
  },
  {
   "cell_type": "code",
   "execution_count": 12,
   "id": "shaped-hunter",
   "metadata": {},
   "outputs": [
    {
     "data": {
      "text/plain": [
       "(6588, 3)"
      ]
     },
     "execution_count": 12,
     "metadata": {},
     "output_type": "execute_result"
    }
   ],
   "source": [
    "y_train.shape"
   ]
  },
  {
   "cell_type": "markdown",
   "id": "forbidden-breeding",
   "metadata": {
    "tags": []
   },
   "source": [
    "## Convolutional Neural Networks\n",
    "\n",
    "CNNs do some complicated math up front to represent images more effectively and in a way that generalizes, allowing us to learn far fewer parameters in later layers.\n",
    "\n",
    "A CNN will generally consist of three types of layers:\n",
    "\n",
    "- Convolutional Layer\n",
    "- Pooling Layer\n",
    "- Densely Connected Layer\n",
    "\n",
    "<img src=\"images/cnn.jpeg\" alt=\"drawing\" width=\"600\"/>\n",
    "\n",
    "[Image source.](https://towardsdatascience.com/a-comprehensive-guide-to-convolutional-neural-networks-the-eli5-way-3bd2b1164a53)\n",
    "\n",
    "### Convolution Layers\n",
    "\n",
    "The convolution layer is where we pass a filter over an image and do some calculation at each step. Specifically, we take pixels that are close to one another, then summarize them with one number. The goal of the convolution layer is to identify important features in our images, like edges.\n",
    "\n",
    "<img src=\"images/convolution.gif\" alt=\"drawing\" width=\"550\"/>\n",
    "\n",
    "[Image source.](https://ujjwalkarn.me/2016/08/11/intuitive-explanation-convnets/)\n",
    "\n",
    "Our hyperparameters here are:\n",
    "- the number of filters to use\n",
    "- the dimensions of the filter\n",
    "\n",
    "**How many filters should we use?** Well, this is a hyperparameter. There's not one great answer, but the idea is that each filter can detect one type of feature in an image (like vertical edges). This may depend on the complexity of your images (simpler images require fewer filters) and usually requires trial and error to identify an adequate value of `filters`. [Source](https://stats.stackexchange.com/questions/196646/what-is-the-significance-of-the-number-of-convolution-filters-in-a-convolutional)\n",
    "\n",
    "### Pooling Layer\n",
    "\n",
    "Remember that CNNs learn far fewer parameters than a regular feed-forward neural network. Most of the \"parameter reduction\" comes from the pooling layer.\n",
    "\n",
    "<img src=\"images/maxpool.png\" alt=\"drawing\" width=\"400\"/>\n",
    "\n",
    "[Image source.](https://ujjwalkarn.me/2016/08/11/intuitive-explanation-convnets/)\n",
    "\n",
    "In Max Pooling, we pass a filter over an image. At each step, we take the maximum value and record it as part of the output.\n",
    "- Average Pooling exists, but is far less frequently used. [Andrew Ng](https://www.deeplearning.ai/deep-learning-specialization/) recommends using Max Pooling.\n",
    "- When pooling, we generally partition the result from the previous layer. That is, the filter does not usually overlap like it does in the convolutional layer.\n",
    "\n",
    "Our hyperparameters here are the **dimensions of the filter we use when pooling**. This is given by `pool_size = (2, 2)` in our example.\n",
    "\n",
    "##### Why use max pooling?\n",
    "1. Reduces the data dimensionality.\n",
    "2. Protects against overfitting by creating a more abstract representation.\n",
    "3. Provides some invariance by ignoring insignificant local changes in the image.\n",
    "\n",
    "### Densely-Connected Layer\n",
    "The densely-connected layer is the exact same as in a normal feed-forward neural network, so we won't spend any time talking about that, **except: remember to pass a `Flatten()` layer before a `Dense()` layer!**"
   ]
  },
  {
   "cell_type": "code",
   "execution_count": null,
   "id": "occupational-bailey",
   "metadata": {},
   "outputs": [],
   "source": [
    "##### TODO: add early stopping \n",
    "\n",
    "input_shape = (256,256,3)\n",
    "model = Sequential()\n",
    "\n",
    "# conv, pool \n",
    "# 64 filters, (3,3) will need to tune these hyperparameters later\n",
    "# two rounds of feature selection! \n",
    "model.add(Conv2D(16, (3,3), activation='relu', input_shape=input_shape))\n",
    "model.add(MaxPooling2D((2,2)))\n",
    "\n",
    "# # conv, pool\n",
    "model.add(Conv2D(16, (3,3), activation='relu'))\n",
    "model.add(MaxPooling2D((2,2)))\n",
    "\n",
    "# flatten/dense, dense layer needs the flat format because it can't handle a matrix\n",
    "model.add(Flatten())\n",
    "model.add(Dense(16, activation='relu'))\n",
    "\n",
    "# dense/output\n",
    "model.add(Dense(3, activation='softmax'))\n",
    "\n",
    "model.compile(optimizer='adam', \n",
    "             loss='categorical_crossentropy', \n",
    "             metrics=['acc'])\n",
    "\n",
    "results = model.fit(X_train, y_train,\n",
    "         validation_data=(X_test, y_test),\n",
    "         epochs=10,\n",
    "         batch_size=64,\n",
    "         verbose=2)"
   ]
  },
  {
   "cell_type": "code",
   "execution_count": 29,
   "id": "honey-paris",
   "metadata": {},
   "outputs": [
    {
     "name": "stdout",
     "output_type": "stream",
     "text": [
      "Model: \"sequential_8\"\n",
      "_________________________________________________________________\n",
      "Layer (type)                 Output Shape              Param #   \n",
      "=================================================================\n",
      "conv2d_14 (Conv2D)           (None, 254, 254, 16)      448       \n",
      "_________________________________________________________________\n",
      "max_pooling2d_14 (MaxPooling (None, 127, 127, 16)      0         \n",
      "_________________________________________________________________\n",
      "conv2d_15 (Conv2D)           (None, 125, 125, 16)      2320      \n",
      "_________________________________________________________________\n",
      "max_pooling2d_15 (MaxPooling (None, 62, 62, 16)        0         \n",
      "_________________________________________________________________\n",
      "flatten_8 (Flatten)          (None, 61504)             0         \n",
      "_________________________________________________________________\n",
      "dense_16 (Dense)             (None, 16)                984080    \n",
      "_________________________________________________________________\n",
      "dense_17 (Dense)             (None, 3)                 51        \n",
      "=================================================================\n",
      "Total params: 986,899\n",
      "Trainable params: 986,899\n",
      "Non-trainable params: 0\n",
      "_________________________________________________________________\n"
     ]
    }
   ],
   "source": [
    "model.summary()"
   ]
  },
  {
   "cell_type": "code",
   "execution_count": 30,
   "id": "structured-lambda",
   "metadata": {},
   "outputs": [],
   "source": [
    "preds = model.predict(X_test)"
   ]
  },
  {
   "cell_type": "code",
   "execution_count": 31,
   "id": "material-leone",
   "metadata": {},
   "outputs": [
    {
     "data": {
      "text/plain": [
       "array([9.9999976e-01, 1.0971730e-19, 2.8489143e-07], dtype=float32)"
      ]
     },
     "execution_count": 31,
     "metadata": {},
     "output_type": "execute_result"
    }
   ],
   "source": [
    "preds[2]"
   ]
  },
  {
   "cell_type": "code",
   "execution_count": 32,
   "id": "multiple-horror",
   "metadata": {},
   "outputs": [],
   "source": [
    "model.save('face_model.h5')"
   ]
  },
  {
   "cell_type": "code",
   "execution_count": 33,
   "id": "expensive-champion",
   "metadata": {
    "tags": []
   },
   "outputs": [
    {
     "data": {
      "image/png": "[encoded data removed]",
      "text/plain": [
       "<Figure size 864x576 with 1 Axes>"
      ]
     },
     "metadata": {
      "needs_background": "light"
     },
     "output_type": "display_data"
    }
   ],
   "source": [
    "# Visualize the loss\n",
    "train_loss = results.history['loss']\n",
    "test_loss = results.history['val_loss']\n",
    "\n",
    "plt.figure(figsize=(12, 8))\n",
    "plt.plot(train_loss, label='Training loss', color='navy')\n",
    "plt.plot(test_loss, label='Testing loss', color='skyblue')\n",
    "plt.legend();"
   ]
  },
  {
   "cell_type": "code",
   "execution_count": 34,
   "id": "timely-isolation",
   "metadata": {
    "tags": []
   },
   "outputs": [
    {
     "data": {
      "image/png": "[encoded data removed]",
      "text/plain": [
       "<Figure size 864x576 with 1 Axes>"
      ]
     },
     "metadata": {
      "needs_background": "light"
     },
     "output_type": "display_data"
    }
   ],
   "source": [
    "# Visualize the accuracy\n",
    "train_acc = results.history['acc']\n",
    "test_acc = results.history['val_acc']\n",
    "\n",
    "plt.figure(figsize=(12, 8))\n",
    "plt.plot(train_acc, label='Training accuracy', color='navy')\n",
    "plt.plot(test_acc, label='Testing accuracy', color='skyblue')\n",
    "plt.legend();"
   ]
  },
  {
   "cell_type": "code",
   "execution_count": 40,
   "id": "serious-intellectual",
   "metadata": {},
   "outputs": [],
   "source": [
    "from sklearn.metrics import classification_report, ConfusionMatrixDisplay, confusion_matrix"
   ]
  },
  {
   "cell_type": "code",
   "execution_count": 42,
   "id": "democratic-hudson",
   "metadata": {},
   "outputs": [
    {
     "data": {
      "text/plain": [
       "2196"
      ]
     },
     "execution_count": 42,
     "metadata": {},
     "output_type": "execute_result"
    }
   ],
   "source": [
    "len(preds)"
   ]
  },
  {
   "cell_type": "code",
   "execution_count": 43,
   "id": "painted-cyprus",
   "metadata": {},
   "outputs": [],
   "source": [
    "# loop over the detected face locations and their corresponding locations\n",
    "predictions = []\n",
    "\n",
    "for pred in preds:\n",
    "    Unmasked, Masked, Incorrectly_Masked = pred\n",
    "    \n",
    "    if max([Unmasked, Masked, Incorrectly_Masked]) == Masked:\n",
    "        predictions.append(1)\n",
    "        color = (0, 255, 0)\n",
    "    elif max([Unmasked, Masked, Incorrectly_Masked]) == Unmasked:\n",
    "        predictions.append(0)\n",
    "        \n",
    "    else:\n",
    "        predictions.append(2)\n",
    "        \n",
    "        "
   ]
  },
  {
   "cell_type": "code",
   "execution_count": 45,
   "id": "acute-forty",
   "metadata": {
    "tags": []
   },
   "outputs": [
    {
     "data": {
      "text/plain": [
       "[0, 2, 0, 0, 2, 2, 0, 0, 0, 0]"
      ]
     },
     "execution_count": 45,
     "metadata": {},
     "output_type": "execute_result"
    }
   ],
   "source": [
    "predictions[:10]"
   ]
  },
  {
   "cell_type": "code",
   "execution_count": 57,
   "id": "comparable-purple",
   "metadata": {},
   "outputs": [
    {
     "data": {
      "text/plain": [
       "0.3424408014571949"
      ]
     },
     "execution_count": 57,
     "metadata": {},
     "output_type": "execute_result"
    }
   ],
   "source": [
    "predictions.count(0)/len(predictions)"
   ]
  },
  {
   "cell_type": "code",
   "execution_count": 58,
   "id": "unlike-heritage",
   "metadata": {},
   "outputs": [
    {
     "data": {
      "text/plain": [
       "0.3319672131147541"
      ]
     },
     "execution_count": 58,
     "metadata": {},
     "output_type": "execute_result"
    }
   ],
   "source": [
    "predictions.count(1)/len(predictions)"
   ]
  },
  {
   "cell_type": "code",
   "execution_count": 59,
   "id": "rubber-figure",
   "metadata": {},
   "outputs": [
    {
     "data": {
      "text/plain": [
       "0.325591985428051"
      ]
     },
     "execution_count": 59,
     "metadata": {},
     "output_type": "execute_result"
    }
   ],
   "source": [
    "predictions.count(2)/len(predictions)"
   ]
  },
  {
   "cell_type": "markdown",
   "id": "mathematical-imperial",
   "metadata": {},
   "source": [
    "-----\n",
    "\n",
    "## Additional resources\n",
    "\n",
    "- [Convnets on small datasets](https://rstudio-pubs-static.s3.amazonaws.com/343094_6e28962e50814b3ab33d4d816a79e66e.html)\n",
    "- [Keras: image classification from scratch](https://keras.io/examples/vision/image_classification_from_scratch/)\n",
    "- [Keras: building powerful models on small datasets](https://blog.keras.io/building-powerful-image-classification-models-using-very-little-data.html)\n",
    "- [Keras: transfer learning](https://www.tensorflow.org/tutorials/images/transfer_learning)\n",
    "- [Chollet: visualizing what convnets learn](https://github.com/fchollet/deep-learning-with-python-notebooks/blob/master/5.4-visualizing-what-convnets-learn.ipynb)\n",
    "- [Jordan: intro to convnets](https://www.jeremyjordan.me/convolutional-neural-networks/)"
   ]
  }
 ],
 "metadata": {
  "kernelspec": {
   "display_name": "Python 3",
   "language": "python",
   "name": "python3"
  },
  "language_info": {
   "codemirror_mode": {
    "name": "ipython",
    "version": 3
   },
   "file_extension": ".py",
   "mimetype": "text/x-python",
   "name": "python",
   "nbconvert_exporter": "python",
   "pygments_lexer": "ipython3",
   "version": "3.9.2"
  },
  "varInspector": {
   "cols": {
    "lenName": 16,
    "lenType": 16,
    "lenVar": 40
   },
   "kernels_config": {
    "python": {
     "delete_cmd_postfix": "",
     "delete_cmd_prefix": "del ",
     "library": "var_list.py",
     "varRefreshCmd": "print(var_dic_list())"
    },
    "r": {
     "delete_cmd_postfix": ") ",
     "delete_cmd_prefix": "rm(",
     "library": "var_list.r",
     "varRefreshCmd": "cat(var_dic_list()) "
    }
   },
   "types_to_exclude": [
    "module",
    "function",
    "builtin_function_or_method",
    "instance",
    "_Feature"
   ],
   "window_display": false
  }
 },
 "nbformat": 4,
 "nbformat_minor": 5
}
